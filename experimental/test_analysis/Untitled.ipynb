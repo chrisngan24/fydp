{
 "cells": [
  {
   "cell_type": "code",
   "execution_count": 16,
   "metadata": {
    "collapsed": true
   },
   "outputs": [],
   "source": [
    "import matplotlib.pyplot as plt\n",
    "import pandas as pd\n",
    "%matplotlib inline\n",
    "plt.style = 'ggplot'"
   ]
  },
  {
   "cell_type": "code",
   "execution_count": 23,
   "metadata": {
    "collapsed": true
   },
   "outputs": [],
   "source": [
    "df_old = pd.read_csv('../../src/test_results/2016-03-21_22-59/test_event_results.csv')"
   ]
  },
  {
   "cell_type": "code",
   "execution_count": 24,
   "metadata": {
    "collapsed": false
   },
   "outputs": [
    {
     "name": "stdout",
     "output_type": "stream",
     "text": [
      "105\n"
     ]
    }
   ],
   "source": [
    "print len(df_old)"
   ]
  },
  {
   "cell_type": "code",
   "execution_count": 26,
   "metadata": {
    "collapsed": false
   },
   "outputs": [
    {
     "name": "stderr",
     "output_type": "stream",
     "text": [
      "/usr/local/lib/python2.7/site-packages/ipykernel/__main__.py:2: FutureWarning: \n",
      "The default value for 'return_type' will change to 'axes' in a future release.\n",
      " To use the future behavior now, set return_type='axes'.\n",
      " To keep the previous behavior and silence this warning, set return_type='dict'.\n",
      "  from ipykernel import kernelapp as app\n"
     ]
    },
    {
     "data": {
      "text/plain": [
       "{'boxes': [<matplotlib.lines.Line2D at 0x10aac1cd0>,\n",
       "  <matplotlib.lines.Line2D at 0x10aa7b110>],\n",
       " 'caps': [<matplotlib.lines.Line2D at 0x10ada05d0>,\n",
       "  <matplotlib.lines.Line2D at 0x10aa43410>,\n",
       "  <matplotlib.lines.Line2D at 0x10ae596d0>,\n",
       "  <matplotlib.lines.Line2D at 0x10aa72b50>],\n",
       " 'fliers': [<matplotlib.lines.Line2D at 0x10aa7b490>,\n",
       "  <matplotlib.lines.Line2D at 0x10b089590>],\n",
       " 'means': [],\n",
       " 'medians': [<matplotlib.lines.Line2D at 0x10aa43550>,\n",
       "  <matplotlib.lines.Line2D at 0x10aa72310>],\n",
       " 'whiskers': [<matplotlib.lines.Line2D at 0x10aac16d0>,\n",
       "  <matplotlib.lines.Line2D at 0x10af49c10>,\n",
       "  <matplotlib.lines.Line2D at 0x10ae59210>,\n",
       "  <matplotlib.lines.Line2D at 0x10ae59190>]}"
      ]
     },
     "execution_count": 26,
     "metadata": {},
     "output_type": "execute_result"
    },
    {
     "data": {
      "image/png": "[encoded data removed]",
      "text/plain": [
       "<matplotlib.figure.Figure at 0x10b978890>"
      ]
     },
     "metadata": {},
     "output_type": "display_data"
    }
   ],
   "source": [
    "cols = ['left_turn_event_precision', 'right_turn_event_precision']\n",
    "df_old.boxplot(column=cols)\n",
    "# plt.boxplot(df_old[cols])"
   ]
  },
  {
   "cell_type": "code",
   "execution_count": 27,
   "metadata": {
    "collapsed": false
   },
   "outputs": [
    {
     "name": "stderr",
     "output_type": "stream",
     "text": [
      "/usr/local/lib/python2.7/site-packages/ipykernel/__main__.py:2: FutureWarning: \n",
      "The default value for 'return_type' will change to 'axes' in a future release.\n",
      " To use the future behavior now, set return_type='axes'.\n",
      " To keep the previous behavior and silence this warning, set return_type='dict'.\n",
      "  from ipykernel import kernelapp as app\n"
     ]
    },
    {
     "data": {
      "text/plain": [
       "{'boxes': [<matplotlib.lines.Line2D at 0x10af7b510>,\n",
       "  <matplotlib.lines.Line2D at 0x10af8e3d0>],\n",
       " 'caps': [<matplotlib.lines.Line2D at 0x10af65390>,\n",
       "  <matplotlib.lines.Line2D at 0x10af65c90>,\n",
       "  <matplotlib.lines.Line2D at 0x10af6c350>,\n",
       "  <matplotlib.lines.Line2D at 0x10aead2d0>],\n",
       " 'fliers': [<matplotlib.lines.Line2D at 0x10af93390>,\n",
       "  <matplotlib.lines.Line2D at 0x10ae12450>],\n",
       " 'means': [],\n",
       " 'medians': [<matplotlib.lines.Line2D at 0x10af93950>,\n",
       "  <matplotlib.lines.Line2D at 0x10aead110>],\n",
       " 'whiskers': [<matplotlib.lines.Line2D at 0x10aec1210>,\n",
       "  <matplotlib.lines.Line2D at 0x10aec1b10>,\n",
       "  <matplotlib.lines.Line2D at 0x10af8e610>,\n",
       "  <matplotlib.lines.Line2D at 0x10af6cc90>]}"
      ]
     },
     "execution_count": 27,
     "metadata": {},
     "output_type": "execute_result"
    },
    {
     "data": {
      "image/png": "[encoded data removed]",
      "text/plain": [
       "<matplotlib.figure.Figure at 0x10b153510>"
      ]
     },
     "metadata": {},
     "output_type": "display_data"
    }
   ],
   "source": [
    "cols = ['left_turn_event_recall', 'right_turn_event_recall']\n",
    "df_old.boxplot(column=cols)\n",
    "# plt.boxplot(df_old[cols])"
   ]
  },
  {
   "cell_type": "code",
   "execution_count": 29,
   "metadata": {
    "collapsed": false
   },
   "outputs": [
    {
     "data": {
      "text/plain": [
       "left_turn_event_recall     0.867314\n",
       "right_turn_event_recall    0.774272\n",
       "dtype: float64"
      ]
     },
     "execution_count": 29,
     "metadata": {},
     "output_type": "execute_result"
    }
   ],
   "source": [
    "df_old[cols].mean(0)"
   ]
  },
  {
   "cell_type": "code",
   "execution_count": null,
   "metadata": {
    "collapsed": true
   },
   "outputs": [],
   "source": []
  },
  {
   "cell_type": "code",
   "execution_count": null,
   "metadata": {
    "collapsed": true
   },
   "outputs": [],
   "source": []
  }
 ],
 "metadata": {
  "kernelspec": {
   "display_name": "Python 2",
   "language": "python",
   "name": "python2"
  },
  "language_info": {
   "codemirror_mode": {
    "name": "ipython",
    "version": 2
   },
   "file_extension": ".py",
   "mimetype": "text/x-python",
   "name": "python",
   "nbconvert_exporter": "python",
   "pygments_lexer": "ipython2",
   "version": "2.7.11"
  }
 },
 "nbformat": 4,
 "nbformat_minor": 0
}
