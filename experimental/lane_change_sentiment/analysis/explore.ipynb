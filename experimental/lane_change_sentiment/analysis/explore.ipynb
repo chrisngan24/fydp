{
 "cells": [
  {
   "cell_type": "code",
   "execution_count": 1,
   "metadata": {
    "collapsed": false
   },
   "outputs": [],
   "source": [
    "# Boilerplate at top of file\n",
    "%load_ext autoreload\n",
    "import rpy2\n",
    "%load_ext rpy2.ipython\n",
    "# %autoreload 2\n",
    "import warnings\n",
    "warnings.filterwarnings('ignore')\n",
    "import pandas as pd\n",
    "import numpy as np\n",
    "import datetime\n",
    "import math\n",
    "\n",
    "import matplotlib.pyplot as plt\n",
    "%matplotlib inline\n",
    "plt.style.use('ggplot')\n",
    "from ggplot import *\n",
    "\n",
    "\n",
    "\n",
    "from sklearn.decomposition import PCA\n",
    "from sklearn.cluster import KMeans\n",
    "\n",
    "import os"
   ]
  },
  {
   "cell_type": "code",
   "execution_count": null,
   "metadata": {
    "collapsed": false
   },
   "outputs": [],
   "source": [
    "import sys\n",
    "sys.path.append('../../../src')\n",
    "# hack to import runner\n",
    "sys.path.append('../../opencv-test')\n",
    "from runner import run_fusion"
   ]
  },
  {
   "cell_type": "code",
   "execution_count": null,
   "metadata": {
    "collapsed": false
   },
   "outputs": [
    {
     "name": "stdout",
     "output_type": "stream",
     "text": [
      "True True\n",
      "['../../../src/test_suite/test_cases/case_2_ang/WHEEL.csv', '../../../src/test_suite/test_cases/case_2_ang/CAMERA.csv']\n",
      "791\n",
      "[0 0 0 0 0 0 0 0 0 0 0 0 0 0 1 1 1 0 0 0 2 2 0 1 1 1 0 0 0 0 2 2 0 0 0 0 0\n",
      " 0 0 0 2 2 0 0 0 0 0 0 0 0 0 0 0 0 0 0 0 0 0 0 0 0 0 0 0 0 0 0 0 0 0 0 0 0\n",
      " 0 0 0 0 0 1 1 1 1 1 1 0 0 0 0 0 0 0 0 0 2 2 2 2 0 0 0 0 0 0 0 0 0 0 0 0 0\n",
      " 0 2 0 0 0 0 0 0 0 0 0 0 0 0 0 0 0 0 0 0 0 0 0 0 0 0 0 0 0 0 0 0 0 0 0 0 0\n",
      " 0 0 1 3 3 3 3 3 0 0 0 0 0 0 0 0 0 0 0 0 0 0 0 0 0 0 0 0 0 0 0 0 0 0 0 0 0\n",
      " 0 0 0 0 0 0 0 0 4 4 4 4 4 4 0 0 0 0 0 0 0 0 0 0 0 0 0 0 0 0 0 0 0 0 0 0 0\n",
      " 0 0 0 0 0 0 0 0 0 0 0 0 0 0 0 0 0 0 0 0 0 0 0 0 0 0 0 0 0 0 0 0 0 0 0 0 0\n",
      " 0 0 0 1 1 1 1 1 1 0 0 0 0 0 0 0 2 2 2 2 2 2 0 0 0 0 0 0 0 0 0 0 0 0 0 0 0\n",
      " 0 0 0 0 0 0 0 0 0 0 0 0 0 0 0 0 0 0 0 0 0 0 0 0 0 0 0 0 0 0 0 0 0 0 0 0 0\n",
      " 0 0 0 0 1 3 3 3 3 0 0 0 0 0 0 0 0 0 0 0 0 0 0 4 4 4 4 4 2 0 0 0 0 0 0 0 0\n",
      " 0 0 0 0 0 0 0 0 0 0 0 0 0 0 0 0 0 0 0 0 0 0 0 0 0 0 0 0 0 0 0 0 0 0 0 0 0\n",
      " 0 0 0 0 0 0 0 0 0 0 0 0 0 0 0 0 0 0 0 0 0 0 0 0 0 0 0 0 0 0 0 0 0 1 1 1 1\n",
      " 1 1 0 0 0 0 0 0 0 2 2 2 2 2 2 0 0 0 0 0 0 0 0 0 0 0 0 0 0 0 0 0 0 0 0 0 0\n",
      " 0 0 0 0 0 0 0 0 0 0 0 0 0 0 0 0 0 0 0 0 0 0 0 0 0 0 0 0 0 0 0 0 0 0 1 1 0\n",
      " 0 0 0 0 0 0 1 1 0 0 0 0 0 2 2 2 2 2 2 0 0 0 0 0 0 0 0 0 0 0 0 0 0 0 0 0 0\n",
      " 0 0 0 0 0 0 0 0 0 0 0 0 0 0 0 0 0 0 0 3 3 3 3 3 3 0 0 0 0 0 0 0 0 0 0 0 0\n",
      " 0 0 0 0 0 0 0 0 0 0 0 0 0 2 2 0 2 2 4 0 0 1 1 1 0 0 0 0 2 2 0 0 0 1 1 0 0\n",
      " 0 0 0 2 0 0 0 0 0 0 0 0 0 0 0 0 0 0 1 1 1 1 1 1 0 0 0 0 0 0 0 0 0 0 0 0 2\n",
      " 0 2 0 0 0 0 0 0 0 0 0 0 0 0 0 0 0 0 0 1 1 1 1 1 1 0 0 2 2 2 2 0 0 0 1 3 3\n",
      " 0 0 0 0 0 0 0 0 0 0 0 0 0 0 0 0 2 2 2 2 2 2 0 0 0 0 0 0 0 0 0 0 0 0 0 0 0\n",
      " 0 0 0 0 0 0 0 0 0 0 0 0 0 0 0 0 0 0 0 0 0 0 0 0 0 0 0 0 0 0 0 0 0 0 0 0 0\n",
      " 0 0 0 0 0 0 0 0 0 0 0 0]"
     ]
    }
   ],
   "source": [
    "path_to_data = '../../../src/test_suite/test_cases/case_2_ang/'\n",
    "files = [path_to_data + 'WHEEL.csv', path_to_data + 'CAMERA.csv']\n",
    "results = run_fusion(files, has_camera=True, has_wheel=True, write_results=False, move_video=False)"
   ]
  },
  {
   "cell_type": "code",
   "execution_count": null,
   "metadata": {
    "collapsed": false
   },
   "outputs": [],
   "source": [
    "head_events_sentiment = results['head_events_sentiment']\n",
    "head_events_list = results['head_events_list']\n",
    "head_events_hash = results['head_events_hash']\n",
    "lane_events_list = results['lane_events_list']\n",
    "df = results['df']"
   ]
  },
  {
   "cell_type": "code",
   "execution_count": null,
   "metadata": {
    "collapsed": false
   },
   "outputs": [],
   "source": [
    "plt.subplot(2,1,1)\n",
    "plt.plot(df['timestamp_x'], df['noseX'])\n",
    "\n",
    "\n",
    "plt.subplot(2,1,2)\n",
    "plt.plot(df['timestamp_x'], df['theta'])"
   ]
  },
  {
   "cell_type": "code",
   "execution_count": null,
   "metadata": {
    "collapsed": false
   },
   "outputs": [],
   "source": [
    "time_thresh = 1 # second\n",
    "lane_events_sentiment = []\n",
    "for lane in lane_events_list:\n",
    "    start_index, end_index, event = lane\n",
    "    # suitable time frame that turns end index can be in\n",
    "    max_time = df.loc[int(start_index)]['time'] + time_thresh\n",
    "    min_time = df.loc[int(start_index)]['time'] - time_thresh\n",
    "    # all the possible indices of the dataframe that could have the right time stamp\n",
    "    possible_indice = set(df[(df['time'] > min_time) & (df['time'] < max_time)].index)\n",
    "    \n",
    "    # hacky\n",
    "    # match the <direction>_lane_change to <direction>_turn_end\n",
    "    end_head_turn_event = event.replace('lane_change', 'turn_end')\n",
    "    \n",
    "    end_indice = set(head_events_hash[end_head_turn_event])\n",
    "    # find the end head turns that match the time threshold\n",
    "    intersecting_indice = possible_indice & end_indice\n",
    "    if intersecting_indice:\n",
    "        # incase there is more than one relevant event\n",
    "        relevant_end_index = max(intersecting_indice) \n",
    "        # hacky\n",
    "        # match the index values that have \n",
    "        # the same ending index and the right event\n",
    "        head_event_indice= [i for i, (s, e, event) \\\n",
    "                            in enumerate(head_events_list) \\\n",
    "                            if int(e) == relevant_end_index \\\n",
    "                            and event == end_head_turn_event.replace('_end', '')]\n",
    "\n",
    "\n",
    "        if head_events_sentiment[head_event_indice[0]]:\n",
    "            print 'good lane change'\n",
    "            lane_events_sentiment.append((True, ''))\n",
    "        else:\n",
    "            print 'bad head turn'\n",
    "            lane_events_sentiment.append((False, 'Bad head turn'))\n",
    "            \n",
    "        \n",
    "        \n",
    "        \n",
    "    else:\n",
    "        print 'missing head turn'\n",
    "        lane_events_sentiment.append((False, 'Missing head turn'))"
   ]
  },
  {
   "cell_type": "code",
   "execution_count": null,
   "metadata": {
    "collapsed": false
   },
   "outputs": [],
   "source": [
    "df.iloc[1]"
   ]
  },
  {
   "cell_type": "code",
   "execution_count": null,
   "metadata": {
    "collapsed": false
   },
   "outputs": [],
   "source": [
    "lane_events_list"
   ]
  },
  {
   "cell_type": "code",
   "execution_count": null,
   "metadata": {
    "collapsed": true
   },
   "outputs": [],
   "source": []
  }
 ],
 "metadata": {
  "kernelspec": {
   "display_name": "Python 2",
   "language": "python",
   "name": "python2"
  },
  "language_info": {
   "codemirror_mode": {
    "name": "ipython",
    "version": 2
   },
   "file_extension": ".py",
   "mimetype": "text/x-python",
   "name": "python",
   "nbconvert_exporter": "python",
   "pygments_lexer": "ipython2",
   "version": "2.7.11"
  }
 },
 "nbformat": 4,
 "nbformat_minor": 0
}
